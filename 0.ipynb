{
 "cells": [
  {
   "cell_type": "code",
   "execution_count": 1,
   "id": "df85e09f",
   "metadata": {},
   "outputs": [
    {
     "name": "stdout",
     "output_type": "stream",
     "text": [
      "True\n"
     ]
    }
   ],
   "source": [
    "import os\n",
    "print(os.path.exists(\"0.mseed\"))  # True なら存在してる"
   ]
  },
  {
   "cell_type": "code",
   "execution_count": 2,
   "id": "edc576f6",
   "metadata": {},
   "outputs": [],
   "source": [
    "import obspy.io.mseed"
   ]
  },
  {
   "cell_type": "code",
   "execution_count": 3,
   "id": "edb19da5",
   "metadata": {},
   "outputs": [
    {
     "name": "stdout",
     "output_type": "stream",
     "text": [
      "1.4.1\n"
     ]
    }
   ],
   "source": [
    "import obspy\n",
    "print(obspy.__version__)"
   ]
  },
  {
   "cell_type": "code",
   "execution_count": 4,
   "id": "4f7615b4",
   "metadata": {},
   "outputs": [
    {
     "name": "stdout",
     "output_type": "stream",
     "text": [
      "c:\\Users\\yuiat\\anaconda3\\Lib\\site-packages\\obspy\\core\\__init__.py\n",
      "MiniSEED reader is available.\n"
     ]
    }
   ],
   "source": [
    "import obspy\n",
    "print(obspy.core.__file__)\n",
    "import obspy.io.mseed\n",
    "print(\"MiniSEED reader is available.\")"
   ]
  },
  {
   "cell_type": "code",
   "execution_count": 5,
   "id": "16c8e11d",
   "metadata": {},
   "outputs": [
    {
     "name": "stdout",
     "output_type": "stream",
     "text": [
      "b'000001D EVN    HHEEV\\x07\\xe2\\x00A\\x109\\x12\\x00\\x13\\x88\\x009\\x00d\\x00\\x01\\x00\\x00\\x00\\x01\\x00\\x00\\x00\\x00\\x008\\x000\\x03\\xe8\\x00\\x00\\x05\\x01\\t\\x00@*\\r\\xf3\\x11\\xa5a\\xb8@\\'\\xbb\\xd4@$\\xb9\"@#z\\x96\\x1e6$[@#\\x95\\x1dy\\xd3\\xeeG@\\'\\xe1\\xe5\\x13\\x89\\x1f\\x14@)\\xd5B'\n"
     ]
    }
   ],
   "source": [
    "with open(\"0.mseed\", \"rb\") as f:\n",
    "    head = f.read(100)\n",
    "print(head)\n"
   ]
  },
  {
   "cell_type": "code",
   "execution_count": 10,
   "id": "63baa607",
   "metadata": {},
   "outputs": [
    {
     "name": "stdout",
     "output_type": "stream",
     "text": [
      "3 Trace(s) in Stream:\n",
      "EV.EVN..HHE | 2018-03-06T16:57:18.500000Z - 2018-03-06T16:57:23.720000Z | 100.0 Hz, 523 samples\n",
      "EV.EVN..HHN | 2018-03-06T16:57:18.500000Z - 2018-03-06T16:57:23.720000Z | 100.0 Hz, 523 samples\n",
      "EV.EVN..HHZ | 2018-03-06T16:57:18.500000Z - 2018-03-06T16:57:23.720000Z | 100.0 Hz, 523 samples\n",
      "         network: EV\n",
      "         station: EVN\n",
      "        location: \n",
      "         channel: HHE\n",
      "       starttime: 2018-03-06T16:57:18.500000Z\n",
      "         endtime: 2018-03-06T16:57:23.720000Z\n",
      "   sampling_rate: 100.0\n",
      "           delta: 0.01\n",
      "            npts: 523\n",
      "           calib: 1.0\n",
      "         _format: MSEED\n",
      "           mseed: AttribDict({'dataquality': 'D', 'number_of_records': 10, 'encoding': 'FLOAT64', 'byteorder': '>', 'record_length': 512, 'filesize': 15360})\n",
      "3 Trace(s) in Stream:\n",
      "EV.EVN..HHE | 2018-03-06T18:00:52.500000Z - 2018-03-06T18:00:57.250000Z | 100.0 Hz, 476 samples\n",
      "EV.EVN..HHN | 2018-03-06T18:00:52.500000Z - 2018-03-06T18:00:57.250000Z | 100.0 Hz, 476 samples\n",
      "EV.EVN..HHZ | 2018-03-06T18:00:52.500000Z - 2018-03-06T18:00:57.250000Z | 100.0 Hz, 476 samples\n",
      "         network: EV\n",
      "         station: EVN\n",
      "        location: \n",
      "         channel: HHE\n",
      "       starttime: 2018-03-06T18:00:52.500000Z\n",
      "         endtime: 2018-03-06T18:00:57.250000Z\n",
      "   sampling_rate: 100.0\n",
      "           delta: 0.01\n",
      "            npts: 476\n",
      "           calib: 1.0\n",
      "         _format: MSEED\n",
      "           mseed: AttribDict({'dataquality': 'D', 'number_of_records': 9, 'encoding': 'FLOAT64', 'byteorder': '>', 'record_length': 512, 'filesize': 13824})\n",
      "3 Trace(s) in Stream:\n",
      "EV.EVN..HHE | 2018-03-07T16:48:44.500000Z - 2018-03-07T16:48:49.610000Z | 100.0 Hz, 512 samples\n",
      "EV.EVN..HHN | 2018-03-07T16:48:44.500000Z - 2018-03-07T16:48:49.610000Z | 100.0 Hz, 512 samples\n",
      "EV.EVN..HHZ | 2018-03-07T16:48:44.500000Z - 2018-03-07T16:48:49.610000Z | 100.0 Hz, 512 samples\n",
      "         network: EV\n",
      "         station: EVN\n",
      "        location: \n",
      "         channel: HHE\n",
      "       starttime: 2018-03-07T16:48:44.500000Z\n",
      "         endtime: 2018-03-07T16:48:49.610000Z\n",
      "   sampling_rate: 100.0\n",
      "           delta: 0.01\n",
      "            npts: 512\n",
      "           calib: 1.0\n",
      "         _format: MSEED\n",
      "           mseed: AttribDict({'dataquality': 'D', 'number_of_records': 9, 'encoding': 'FLOAT64', 'byteorder': '>', 'record_length': 512, 'filesize': 13824})\n",
      "3 Trace(s) in Stream:\n",
      "EV.EVN..HHE | 2018-03-07T20:31:38.500000Z - 2018-03-07T20:31:43.900000Z | 100.0 Hz, 541 samples\n",
      "EV.EVN..HHN | 2018-03-07T20:31:38.500000Z - 2018-03-07T20:31:43.900000Z | 100.0 Hz, 541 samples\n",
      "EV.EVN..HHZ | 2018-03-07T20:31:38.500000Z - 2018-03-07T20:31:43.900000Z | 100.0 Hz, 541 samples\n",
      "         network: EV\n",
      "         station: EVN\n",
      "        location: \n",
      "         channel: HHE\n",
      "       starttime: 2018-03-07T20:31:38.500000Z\n",
      "         endtime: 2018-03-07T20:31:43.900000Z\n",
      "   sampling_rate: 100.0\n",
      "           delta: 0.01\n",
      "            npts: 541\n",
      "           calib: 1.0\n",
      "         _format: MSEED\n",
      "           mseed: AttribDict({'dataquality': 'D', 'number_of_records': 10, 'encoding': 'FLOAT64', 'byteorder': '>', 'record_length': 512, 'filesize': 15360})\n",
      "3 Trace(s) in Stream:\n",
      "EV.EVN..HHE | 2018-03-08T11:57:15.500000Z - 2018-03-08T11:57:20.430000Z | 100.0 Hz, 494 samples\n",
      "EV.EVN..HHN | 2018-03-08T11:57:15.500000Z - 2018-03-08T11:57:20.430000Z | 100.0 Hz, 494 samples\n",
      "EV.EVN..HHZ | 2018-03-08T11:57:15.500000Z - 2018-03-08T11:57:20.430000Z | 100.0 Hz, 494 samples\n",
      "         network: EV\n",
      "         station: EVN\n",
      "        location: \n",
      "         channel: HHE\n",
      "       starttime: 2018-03-08T11:57:15.500000Z\n",
      "         endtime: 2018-03-08T11:57:20.430000Z\n",
      "   sampling_rate: 100.0\n",
      "           delta: 0.01\n",
      "            npts: 494\n",
      "           calib: 1.0\n",
      "         _format: MSEED\n",
      "           mseed: AttribDict({'dataquality': 'D', 'number_of_records': 9, 'encoding': 'FLOAT64', 'byteorder': '>', 'record_length': 512, 'filesize': 13824})\n",
      "3 Trace(s) in Stream:\n",
      "EV.EVN..HHE | 2018-03-08T23:55:22.500000Z - 2018-03-08T23:55:27.900000Z | 100.0 Hz, 541 samples\n",
      "EV.EVN..HHN | 2018-03-08T23:55:22.500000Z - 2018-03-08T23:55:27.900000Z | 100.0 Hz, 541 samples\n",
      "EV.EVN..HHZ | 2018-03-08T23:55:22.500000Z - 2018-03-08T23:55:27.900000Z | 100.0 Hz, 541 samples\n",
      "         network: EV\n",
      "         station: EVN\n",
      "        location: \n",
      "         channel: HHE\n",
      "       starttime: 2018-03-08T23:55:22.500000Z\n",
      "         endtime: 2018-03-08T23:55:27.900000Z\n",
      "   sampling_rate: 100.0\n",
      "           delta: 0.01\n",
      "            npts: 541\n",
      "           calib: 1.0\n",
      "         _format: MSEED\n",
      "           mseed: AttribDict({'dataquality': 'D', 'number_of_records': 10, 'encoding': 'FLOAT64', 'byteorder': '>', 'record_length': 512, 'filesize': 15360})\n",
      "3 Trace(s) in Stream:\n",
      "EV.EVN..HHE | 2018-03-12T17:57:34.500000Z - 2018-03-12T17:57:39.120000Z | 100.0 Hz, 463 samples\n",
      "EV.EVN..HHN | 2018-03-12T17:57:34.500000Z - 2018-03-12T17:57:39.120000Z | 100.0 Hz, 463 samples\n",
      "EV.EVN..HHZ | 2018-03-12T17:57:34.500000Z - 2018-03-12T17:57:39.120000Z | 100.0 Hz, 463 samples\n",
      "         network: EV\n",
      "         station: EVN\n",
      "        location: \n",
      "         channel: HHE\n",
      "       starttime: 2018-03-12T17:57:34.500000Z\n",
      "         endtime: 2018-03-12T17:57:39.120000Z\n",
      "   sampling_rate: 100.0\n",
      "           delta: 0.01\n",
      "            npts: 463\n",
      "           calib: 1.0\n",
      "         _format: MSEED\n",
      "           mseed: AttribDict({'dataquality': 'D', 'number_of_records': 9, 'encoding': 'FLOAT64', 'byteorder': '>', 'record_length': 512, 'filesize': 13824})\n",
      "3 Trace(s) in Stream:\n",
      "EV.EVN..HHE | 2018-03-13T15:41:46.500000Z - 2018-03-13T15:41:51.700000Z | 100.0 Hz, 521 samples\n",
      "EV.EVN..HHN | 2018-03-13T15:41:46.500000Z - 2018-03-13T15:41:51.700000Z | 100.0 Hz, 521 samples\n",
      "EV.EVN..HHZ | 2018-03-13T15:41:46.500000Z - 2018-03-13T15:41:51.700000Z | 100.0 Hz, 521 samples\n",
      "         network: EV\n",
      "         station: EVN\n",
      "        location: \n",
      "         channel: HHE\n",
      "       starttime: 2018-03-13T15:41:46.500000Z\n",
      "         endtime: 2018-03-13T15:41:51.700000Z\n",
      "   sampling_rate: 100.0\n",
      "           delta: 0.01\n",
      "            npts: 521\n",
      "           calib: 1.0\n",
      "         _format: MSEED\n",
      "           mseed: AttribDict({'dataquality': 'D', 'number_of_records': 10, 'encoding': 'FLOAT64', 'byteorder': '>', 'record_length': 512, 'filesize': 15360})\n",
      "3 Trace(s) in Stream:\n",
      "EV.EVN..HHE | 2018-03-13T17:49:22.500000Z - 2018-03-13T17:49:27.160000Z | 100.0 Hz, 467 samples\n",
      "EV.EVN..HHN | 2018-03-13T17:49:22.500000Z - 2018-03-13T17:49:27.160000Z | 100.0 Hz, 467 samples\n",
      "EV.EVN..HHZ | 2018-03-13T17:49:22.500000Z - 2018-03-13T17:49:27.160000Z | 100.0 Hz, 467 samples\n",
      "         network: EV\n",
      "         station: EVN\n",
      "        location: \n",
      "         channel: HHE\n",
      "       starttime: 2018-03-13T17:49:22.500000Z\n",
      "         endtime: 2018-03-13T17:49:27.160000Z\n",
      "   sampling_rate: 100.0\n",
      "           delta: 0.01\n",
      "            npts: 467\n",
      "           calib: 1.0\n",
      "         _format: MSEED\n",
      "           mseed: AttribDict({'dataquality': 'D', 'number_of_records': 9, 'encoding': 'FLOAT64', 'byteorder': '>', 'record_length': 512, 'filesize': 13824})\n"
     ]
    }
   ],
   "source": [
    "from obspy import read\n",
    "\n",
    "st = []\n",
    "\n",
    "for i in range(9):\n",
    "    st.append(read(f\"{i}.mseed\"))  # 正しい書き方\n",
    "    print(st[i])\n",
    "    print(st[i][0].stats)"
   ]
  },
  {
   "cell_type": "code",
   "execution_count": 11,
   "id": "8fe45355",
   "metadata": {},
   "outputs": [
    {
     "name": "stdout",
     "output_type": "stream",
     "text": [
      "3 Trace(s) in Stream:\n",
      "EV.EVN..HHE | 2018-03-06T18:00:52.500000Z - 2018-03-06T18:00:57.250000Z | 100.0 Hz, 476 samples\n",
      "EV.EVN..HHN | 2018-03-06T18:00:52.500000Z - 2018-03-06T18:00:57.250000Z | 100.0 Hz, 476 samples\n",
      "EV.EVN..HHZ | 2018-03-06T18:00:52.500000Z - 2018-03-06T18:00:57.250000Z | 100.0 Hz, 476 samples\n"
     ]
    }
   ],
   "source": [
    "from obspy.io.mseed.core import _read_mseed\n",
    "st = _read_mseed(\"1.mseed\")\n",
    "print(st)\n",
    "# st.plot()\n",
    "# print('end')"
   ]
  },
  {
   "cell_type": "code",
   "execution_count": null,
   "id": "92b5dce6",
   "metadata": {},
   "outputs": [
    {
     "name": "stdout",
     "output_type": "stream",
     "text": [
      "[0, 1, 2, 3, 4, 5, 6, 7, 8]\n"
     ]
    }
   ],
   "source": [
    "print(list(range(9)))"
   ]
  },
  {
   "cell_type": "code",
   "execution_count": null,
   "id": "8cbce2fb",
   "metadata": {},
   "outputs": [
    {
     "name": "stdout",
     "output_type": "stream",
     "text": [
      "3 Trace(s) in Stream:\n",
      "EV.EVN..HHE | 2018-03-07T16:48:44.500000Z - 2018-03-07T16:48:49.610000Z | 100.0 Hz, 512 samples\n",
      "EV.EVN..HHN | 2018-03-07T16:48:44.500000Z - 2018-03-07T16:48:49.610000Z | 100.0 Hz, 512 samples\n",
      "EV.EVN..HHZ | 2018-03-07T16:48:44.500000Z - 2018-03-07T16:48:49.610000Z | 100.0 Hz, 512 samples\n",
      "3 Trace(s) in Stream:\n",
      "EV.EVN..HHE | 2018-03-07T16:48:44.500000Z - 2018-03-07T16:48:49.610000Z | 100.0 Hz, 512 samples\n",
      "EV.EVN..HHN | 2018-03-07T16:48:44.500000Z - 2018-03-07T16:48:49.610000Z | 100.0 Hz, 512 samples\n",
      "EV.EVN..HHZ | 2018-03-07T16:48:44.500000Z - 2018-03-07T16:48:49.610000Z | 100.0 Hz, 512 samples\n",
      "3 Trace(s) in Stream:\n",
      "EV.EVN..HHE | 2018-03-07T16:48:44.500000Z - 2018-03-07T16:48:49.610000Z | 100.0 Hz, 512 samples\n",
      "EV.EVN..HHN | 2018-03-07T16:48:44.500000Z - 2018-03-07T16:48:49.610000Z | 100.0 Hz, 512 samples\n",
      "EV.EVN..HHZ | 2018-03-07T16:48:44.500000Z - 2018-03-07T16:48:49.610000Z | 100.0 Hz, 512 samples\n",
      "3 Trace(s) in Stream:\n",
      "EV.EVN..HHE | 2018-03-07T16:48:44.500000Z - 2018-03-07T16:48:49.610000Z | 100.0 Hz, 512 samples\n",
      "EV.EVN..HHN | 2018-03-07T16:48:44.500000Z - 2018-03-07T16:48:49.610000Z | 100.0 Hz, 512 samples\n",
      "EV.EVN..HHZ | 2018-03-07T16:48:44.500000Z - 2018-03-07T16:48:49.610000Z | 100.0 Hz, 512 samples\n",
      "3 Trace(s) in Stream:\n",
      "EV.EVN..HHE | 2018-03-07T16:48:44.500000Z - 2018-03-07T16:48:49.610000Z | 100.0 Hz, 512 samples\n",
      "EV.EVN..HHN | 2018-03-07T16:48:44.500000Z - 2018-03-07T16:48:49.610000Z | 100.0 Hz, 512 samples\n",
      "EV.EVN..HHZ | 2018-03-07T16:48:44.500000Z - 2018-03-07T16:48:49.610000Z | 100.0 Hz, 512 samples\n",
      "3 Trace(s) in Stream:\n",
      "EV.EVN..HHE | 2018-03-07T16:48:44.500000Z - 2018-03-07T16:48:49.610000Z | 100.0 Hz, 512 samples\n",
      "EV.EVN..HHN | 2018-03-07T16:48:44.500000Z - 2018-03-07T16:48:49.610000Z | 100.0 Hz, 512 samples\n",
      "EV.EVN..HHZ | 2018-03-07T16:48:44.500000Z - 2018-03-07T16:48:49.610000Z | 100.0 Hz, 512 samples\n",
      "3 Trace(s) in Stream:\n",
      "EV.EVN..HHE | 2018-03-07T16:48:44.500000Z - 2018-03-07T16:48:49.610000Z | 100.0 Hz, 512 samples\n",
      "EV.EVN..HHN | 2018-03-07T16:48:44.500000Z - 2018-03-07T16:48:49.610000Z | 100.0 Hz, 512 samples\n",
      "EV.EVN..HHZ | 2018-03-07T16:48:44.500000Z - 2018-03-07T16:48:49.610000Z | 100.0 Hz, 512 samples\n",
      "3 Trace(s) in Stream:\n",
      "EV.EVN..HHE | 2018-03-07T16:48:44.500000Z - 2018-03-07T16:48:49.610000Z | 100.0 Hz, 512 samples\n",
      "EV.EVN..HHN | 2018-03-07T16:48:44.500000Z - 2018-03-07T16:48:49.610000Z | 100.0 Hz, 512 samples\n",
      "EV.EVN..HHZ | 2018-03-07T16:48:44.500000Z - 2018-03-07T16:48:49.610000Z | 100.0 Hz, 512 samples\n",
      "3 Trace(s) in Stream:\n",
      "EV.EVN..HHE | 2018-03-07T16:48:44.500000Z - 2018-03-07T16:48:49.610000Z | 100.0 Hz, 512 samples\n",
      "EV.EVN..HHN | 2018-03-07T16:48:44.500000Z - 2018-03-07T16:48:49.610000Z | 100.0 Hz, 512 samples\n",
      "EV.EVN..HHZ | 2018-03-07T16:48:44.500000Z - 2018-03-07T16:48:49.610000Z | 100.0 Hz, 512 samples\n",
      "3 Trace(s) in Stream:\n",
      "EV.EVN..HHE | 2018-03-07T16:48:44.500000Z - 2018-03-07T16:48:49.610000Z | 100.0 Hz, 512 samples\n",
      "EV.EVN..HHN | 2018-03-07T16:48:44.500000Z - 2018-03-07T16:48:49.610000Z | 100.0 Hz, 512 samples\n",
      "EV.EVN..HHZ | 2018-03-07T16:48:44.500000Z - 2018-03-07T16:48:49.610000Z | 100.0 Hz, 512 samples\n"
     ]
    }
   ],
   "source": [
    "from obspy import read\n",
    "\n",
    "for i in range(10):\n",
    "    st = read(\"2.mseed\")\n",
    "    print(st)\n",
    "# st.plot()\n",
    "# print(st[0].data)"
   ]
  },
  {
   "cell_type": "code",
   "execution_count": null,
   "id": "d160ddcf",
   "metadata": {},
   "outputs": [
    {
     "name": "stdout",
     "output_type": "stream",
     "text": [
      "3 Trace(s) in Stream:\n",
      "EV.EVN..HHE | 2018-03-15T17:45:27.500000Z - 2018-03-15T17:45:32.220000Z | 100.0 Hz, 473 samples\n",
      "EV.EVN..HHN | 2018-03-15T17:45:27.500000Z - 2018-03-15T17:45:32.220000Z | 100.0 Hz, 473 samples\n",
      "EV.EVN..HHZ | 2018-03-15T17:45:27.500000Z - 2018-03-15T17:45:32.220000Z | 100.0 Hz, 473 samples\n"
     ]
    }
   ],
   "source": [
    "from obspy import read\n",
    "st = read(\"9.mseed\")\n",
    "print(st)\n",
    "# st.plot()\n",
    "# print(st[0].data)"
   ]
  },
  {
   "cell_type": "code",
   "execution_count": null,
   "id": "22cd3003",
   "metadata": {},
   "outputs": [],
   "source": []
  }
 ],
 "metadata": {
  "kernelspec": {
   "display_name": "base",
   "language": "python",
   "name": "python3"
  },
  "language_info": {
   "codemirror_mode": {
    "name": "ipython",
    "version": 3
   },
   "file_extension": ".py",
   "mimetype": "text/x-python",
   "name": "python",
   "nbconvert_exporter": "python",
   "pygments_lexer": "ipython3",
   "version": "3.12.3"
  }
 },
 "nbformat": 4,
 "nbformat_minor": 5
}
